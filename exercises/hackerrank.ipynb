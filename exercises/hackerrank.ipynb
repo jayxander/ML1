{
 "cells": [
  {
   "cell_type": "code",
   "execution_count": 3,
   "metadata": {},
   "outputs": [
    {
     "data": {
      "text/plain": [
       "['BCADH', 'HIDP', 'SPA']"
      ]
     },
     "execution_count": 3,
     "metadata": {},
     "output_type": "execute_result"
    }
   ],
   "source": [
    "s = 'AABCAAADHHHIIIIDDDDPSSPSPSPPPA'\n",
    "k = 3   \n",
    "# n = len(s)\n",
    "\n",
    "# string\n",
    "# k ---- amount of substrings\n",
    "# length ---- len(string)/k ---- length of each substring\n",
    "# ,\n",
    "# string = 'AABCAAADA'\n",
    "# k = 3\n",
    "\n",
    "def split_string(string, k):\n",
    "    length = len(string) // k\n",
    "    str_lst = []\n",
    "    for i in range(0, len(string), length):\n",
    "        str_lst.append(string[i:i+length])\n",
    "    return str_lst\n",
    "\n",
    "def remove_duplicates(str_lst):\n",
    "    out_lst = []\n",
    "    for string in str_lst:\n",
    "        new_str = ''\n",
    "        for i in range(len(string)):\n",
    "            if string[i] not in string[i+1:]:\n",
    "                new_str += string[i]\n",
    "        out_lst.append(new_str)\n",
    "    return out_lst\n",
    "\n",
    "remove_duplicates(split_string(s, k))\n"
   ]
  },
  {
   "cell_type": "code",
   "execution_count": 11,
   "metadata": {},
   "outputs": [
    {
     "name": "stdout",
     "output_type": "stream",
     "text": [
      "AB\n",
      "CA\n",
      "AD\n"
     ]
    }
   ],
   "source": [
    "def merge_the_tools(string, k):\n",
    "    length = len(string) // k\n",
    "    str_lst = []\n",
    "    for i in range(0, len(string), length):\n",
    "        str_lst.append(string[i:i+length])\n",
    "    sorted(str_lst)\n",
    "    for string in str_lst:\n",
    "        new_str = ''\n",
    "        for i in range(len(string)):\n",
    "            if string[i] not in new_str:\n",
    "                new_str += string[i]\n",
    "        print(new_str)\n",
    "\n",
    "\n",
    "merge_the_tools('AABCAAADA', 3)"
   ]
  },
  {
   "cell_type": "code",
   "execution_count": null,
   "metadata": {},
   "outputs": [],
   "source": []
  },
  {
   "cell_type": "code",
   "execution_count": null,
   "metadata": {},
   "outputs": [],
   "source": []
  },
  {
   "cell_type": "code",
   "execution_count": null,
   "metadata": {},
   "outputs": [],
   "source": []
  }
 ],
 "metadata": {
  "kernelspec": {
   "display_name": "Python 3",
   "language": "python",
   "name": "python3"
  },
  "language_info": {
   "codemirror_mode": {
    "name": "ipython",
    "version": 3
   },
   "file_extension": ".py",
   "mimetype": "text/x-python",
   "name": "python",
   "nbconvert_exporter": "python",
   "pygments_lexer": "ipython3",
   "version": "3.6.5"
  }
 },
 "nbformat": 4,
 "nbformat_minor": 2
}
